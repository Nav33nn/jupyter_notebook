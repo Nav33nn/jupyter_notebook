{
 "cells": [
  {
   "cell_type": "code",
   "execution_count": 0,
   "metadata": {
    "colab": {},
    "colab_type": "code",
    "collapsed": true,
    "id": "eGwABnGk7kUb"
   },
   "outputs": [],
   "source": [
    "!pip install nltk\n",
    "!pip install keras\n",
    "!pip install gensim\n",
    "!pip install seaborn"
   ]
  },
  {
   "cell_type": "code",
   "execution_count": 0,
   "metadata": {
    "colab": {},
    "colab_type": "code",
    "collapsed": true,
    "id": "Icaqr9VJ7njC"
   },
   "outputs": [],
   "source": [
    "import nltk\n",
    "nltk.download('brown')\n",
    "nltk.download('treebank')\n",
    "nltk.download('conll2000')\n",
    "nltk.download('punkt')\n",
    "nltk.download('universal_tagset')"
   ]
  },
  {
   "cell_type": "code",
   "execution_count": 0,
   "metadata": {
    "colab": {
     "base_uri": "https://localhost:8080/",
     "height": 34
    },
    "colab_type": "code",
    "executionInfo": {
     "elapsed": 12183,
     "status": "ok",
     "timestamp": 1544947672548,
     "user": {
      "displayName": "Naveen Bharadwaj",
      "photoUrl": "https://lh4.googleusercontent.com/-yYj6SAmNV4o/AAAAAAAAAAI/AAAAAAAAAE0/TU_U_ezgx44/s64/photo.jpg",
      "userId": "14707737005437864614"
     },
     "user_tz": -330
    },
    "id": "1l-nicIF7ual",
    "outputId": "d3b45dc2-74f7-4b47-e6df-44aed7ad1f54"
   },
   "outputs": [
    {
     "name": "stderr",
     "output_type": "stream",
     "text": [
      "Using TensorFlow backend.\n"
     ]
    }
   ],
   "source": [
    "# import necessary libraries\n",
    "import warnings\n",
    "warnings.filterwarnings(\"ignore\")\n",
    "\n",
    "import numpy as np\n",
    "\n",
    "from matplotlib import pyplot as plt\n",
    "\n",
    "from nltk.corpus import brown\n",
    "from nltk.corpus import treebank\n",
    "from nltk.corpus import conll2000\n",
    "\n",
    "import seaborn as sns\n",
    "\n",
    "from gensim.models import KeyedVectors\n",
    "\n",
    "from keras.preprocessing.sequence import pad_sequences\n",
    "from keras.utils.np_utils import to_categorical\n",
    "from keras.models import Sequential\n",
    "from keras.layers import Embedding\n",
    "from keras.layers import Dense, Input\n",
    "from keras.layers import TimeDistributed\n",
    "from keras.layers import LSTM, GRU, Bidirectional, SimpleRNN, RNN\n",
    "from keras.models import Model\n",
    "from keras.preprocessing.text import Tokenizer\n",
    "\n",
    "from sklearn.model_selection import train_test_split\n",
    "from sklearn.utils import shuffle"
   ]
  },
  {
   "cell_type": "code",
   "execution_count": 0,
   "metadata": {
    "colab": {},
    "colab_type": "code",
    "collapsed": true,
    "id": "9tSmWd7I8RkC"
   },
   "outputs": [],
   "source": [
    "# load POS tagged corpora from NLTK\n",
    "treebank_corpus = treebank.tagged_sents(tagset='universal')\n",
    "brown_corpus = brown.tagged_sents(tagset='universal')\n",
    "conll_corpus = conll2000.tagged_sents(tagset='universal')\n",
    "tagged_sentences = treebank_corpus + brown_corpus + conll_corpus"
   ]
  },
  {
   "cell_type": "code",
   "execution_count": 0,
   "metadata": {
    "colab": {},
    "colab_type": "code",
    "collapsed": true,
    "id": "O6Duo2jq8V7P"
   },
   "outputs": [],
   "source": [
    "# let's look at the data\n",
    "tagged_sentences[11]"
   ]
  },
  {
   "cell_type": "code",
   "execution_count": 0,
   "metadata": {
    "colab": {},
    "colab_type": "code",
    "collapsed": true,
    "id": "NRhPi2mf8Zxp"
   },
   "outputs": [],
   "source": [
    "X = [] # store input sequence\n",
    "Y = [] # store output sequence\n",
    "\n",
    "for sentence in tagged_sentences:\n",
    "    X_sentence = []\n",
    "    Y_sentence = []\n",
    "    for entity in sentence:         \n",
    "        X_sentence.append(entity[0])  # entity[0] contains the word\n",
    "        Y_sentence.append(entity[1])  # entity[1] contains corresponding tag\n",
    "        \n",
    "    X.append(X_sentence)\n",
    "    Y.append(Y_sentence)"
   ]
  },
  {
   "cell_type": "code",
   "execution_count": 0,
   "metadata": {
    "colab": {},
    "colab_type": "code",
    "collapsed": true,
    "id": "oElb6Laz8dXy"
   },
   "outputs": [],
   "source": [
    "num_words = len(set([word.lower() for sentence in X for word in sentence]))\n",
    "num_tags   = len(set([word.lower() for sentence in Y for word in sentence]))"
   ]
  },
  {
   "cell_type": "code",
   "execution_count": 0,
   "metadata": {
    "colab": {
     "base_uri": "https://localhost:8080/",
     "height": 68
    },
    "colab_type": "code",
    "executionInfo": {
     "elapsed": 5213,
     "status": "ok",
     "timestamp": 1544947743801,
     "user": {
      "displayName": "Naveen Bharadwaj",
      "photoUrl": "https://lh4.googleusercontent.com/-yYj6SAmNV4o/AAAAAAAAAAI/AAAAAAAAAE0/TU_U_ezgx44/s64/photo.jpg",
      "userId": "14707737005437864614"
     },
     "user_tz": -330
    },
    "id": "QWh2w9C88hA-",
    "outputId": "468d82b7-efbe-44ec-99a4-c48c176b7ad8"
   },
   "outputs": [
    {
     "name": "stdout",
     "output_type": "stream",
     "text": [
      "Total number of tagged sentences: 72202\n",
      "Vocabulary size: 59448\n",
      "Total number of tags: 12\n"
     ]
    }
   ],
   "source": [
    "print(\"Total number of tagged sentences: {}\".format(len(X)))\n",
    "print(\"Vocabulary size: {}\".format(num_words))\n",
    "print(\"Total number of tags: {}\".format(num_tags))"
   ]
  },
  {
   "cell_type": "code",
   "execution_count": 0,
   "metadata": {
    "colab": {
     "base_uri": "https://localhost:8080/",
     "height": 85
    },
    "colab_type": "code",
    "executionInfo": {
     "elapsed": 5060,
     "status": "ok",
     "timestamp": 1544947743801,
     "user": {
      "displayName": "Naveen Bharadwaj",
      "photoUrl": "https://lh4.googleusercontent.com/-yYj6SAmNV4o/AAAAAAAAAAI/AAAAAAAAAE0/TU_U_ezgx44/s64/photo.jpg",
      "userId": "14707737005437864614"
     },
     "user_tz": -330
    },
    "id": "xzxdSpCM8hEY",
    "outputId": "13392093-3326-4969-81ed-96ab6943ffd8"
   },
   "outputs": [
    {
     "name": "stdout",
     "output_type": "stream",
     "text": [
      "sample X:  ['Pierre', 'Vinken', ',', '61', 'years', 'old', ',', 'will', 'join', 'the', 'board', 'as', 'a', 'nonexecutive', 'director', 'Nov.', '29', '.'] \n",
      "\n",
      "sample Y:  ['NOUN', 'NOUN', '.', 'NUM', 'NOUN', 'ADJ', '.', 'VERB', 'VERB', 'DET', 'NOUN', 'ADP', 'DET', 'ADJ', 'NOUN', 'NOUN', 'NUM', '.'] \n",
      "\n"
     ]
    }
   ],
   "source": [
    "# let's look at first data point\n",
    "# this is one data point that will be fed to the RNN\n",
    "print('sample X: ', X[0], '\\n')\n",
    "print('sample Y: ', Y[0], '\\n')"
   ]
  },
  {
   "cell_type": "code",
   "execution_count": 0,
   "metadata": {
    "colab": {
     "base_uri": "https://localhost:8080/",
     "height": 51
    },
    "colab_type": "code",
    "executionInfo": {
     "elapsed": 4923,
     "status": "ok",
     "timestamp": 1544947743802,
     "user": {
      "displayName": "Naveen Bharadwaj",
      "photoUrl": "https://lh4.googleusercontent.com/-yYj6SAmNV4o/AAAAAAAAAAI/AAAAAAAAAE0/TU_U_ezgx44/s64/photo.jpg",
      "userId": "14707737005437864614"
     },
     "user_tz": -330
    },
    "id": "S66hKU4S8hGr",
    "outputId": "a049aa0c-0fb9-438b-8bcc-790c061522e7"
   },
   "outputs": [
    {
     "name": "stdout",
     "output_type": "stream",
     "text": [
      "Length of first input sequence  : 18\n",
      "Length of first output sequence : 18\n"
     ]
    }
   ],
   "source": [
    "# In this many-to-many problem, the length of each input and output sequence must be the same.\n",
    "# Since each word is tagged, it's important to make sure that the length of input sequence equals the output sequence\n",
    "print(\"Length of first input sequence  : {}\".format(len(X[0])))\n",
    "print(\"Length of first output sequence : {}\".format(len(Y[0])))"
   ]
  },
  {
   "cell_type": "code",
   "execution_count": 0,
   "metadata": {
    "colab": {},
    "colab_type": "code",
    "collapsed": true,
    "id": "1ooN0sn48hJ8"
   },
   "outputs": [],
   "source": [
    "# encode X\n",
    "\n",
    "word_tokenizer = Tokenizer()                      # instantiate tokeniser\n",
    "word_tokenizer.fit_on_texts(X)                    # fit tokeniser on data\n",
    "X_encoded = word_tokenizer.texts_to_sequences(X)  # use the tokeniser to encode input sequence"
   ]
  },
  {
   "cell_type": "code",
   "execution_count": 0,
   "metadata": {
    "colab": {},
    "colab_type": "code",
    "collapsed": true,
    "id": "KmEc-dds8hMO"
   },
   "outputs": [],
   "source": [
    "# encode Y\n",
    "\n",
    "tag_tokenizer = Tokenizer()\n",
    "tag_tokenizer.fit_on_texts(Y)\n",
    "Y_encoded = tag_tokenizer.texts_to_sequences(Y)"
   ]
  },
  {
   "cell_type": "code",
   "execution_count": 0,
   "metadata": {
    "colab": {
     "base_uri": "https://localhost:8080/",
     "height": 272
    },
    "colab_type": "code",
    "executionInfo": {
     "elapsed": 5326,
     "status": "ok",
     "timestamp": 1544947744989,
     "user": {
      "displayName": "Naveen Bharadwaj",
      "photoUrl": "https://lh4.googleusercontent.com/-yYj6SAmNV4o/AAAAAAAAAAI/AAAAAAAAAE0/TU_U_ezgx44/s64/photo.jpg",
      "userId": "14707737005437864614"
     },
     "user_tz": -330
    },
    "id": "Y7Nw_fW58hPj",
    "outputId": "0a3161f3-1e77-443c-811f-7145b60c2918"
   },
   "outputs": [
    {
     "name": "stdout",
     "output_type": "stream",
     "text": [
      "** Raw data point ** \n",
      " ---------------------------------------------------------------------------------------------------- \n",
      "\n",
      "X:  ['Pierre', 'Vinken', ',', '61', 'years', 'old', ',', 'will', 'join', 'the', 'board', 'as', 'a', 'nonexecutive', 'director', 'Nov.', '29', '.'] \n",
      "\n",
      "Y:  ['NOUN', 'NOUN', '.', 'NUM', 'NOUN', 'ADJ', '.', 'VERB', 'VERB', 'DET', 'NOUN', 'ADP', 'DET', 'ADJ', 'NOUN', 'NOUN', 'NUM', '.'] \n",
      "\n",
      "\n",
      "** Encoded data point ** \n",
      " ---------------------------------------------------------------------------------------------------- \n",
      "\n",
      "X:  [6423, 24231, 2, 7652, 102, 170, 2, 47, 1898, 1, 269, 17, 7, 13230, 619, 1711, 2761, 3] \n",
      "\n",
      "Y:  [1, 1, 3, 11, 1, 6, 3, 2, 2, 5, 1, 4, 5, 6, 1, 1, 11, 3] \n",
      "\n"
     ]
    }
   ],
   "source": [
    "# look at first encoded data point\n",
    "\n",
    "print(\"** Raw data point **\", \"\\n\", \"-\"*100, \"\\n\")\n",
    "print('X: ', X[0], '\\n')\n",
    "print('Y: ', Y[0], '\\n')\n",
    "print()\n",
    "print(\"** Encoded data point **\", \"\\n\", \"-\"*100, \"\\n\")\n",
    "print('X: ', X_encoded[0], '\\n')\n",
    "print('Y: ', Y_encoded[0], '\\n')"
   ]
  },
  {
   "cell_type": "code",
   "execution_count": 0,
   "metadata": {
    "colab": {
     "base_uri": "https://localhost:8080/",
     "height": 34
    },
    "colab_type": "code",
    "executionInfo": {
     "elapsed": 5270,
     "status": "ok",
     "timestamp": 1544947744992,
     "user": {
      "displayName": "Naveen Bharadwaj",
      "photoUrl": "https://lh4.googleusercontent.com/-yYj6SAmNV4o/AAAAAAAAAAI/AAAAAAAAAE0/TU_U_ezgx44/s64/photo.jpg",
      "userId": "14707737005437864614"
     },
     "user_tz": -330
    },
    "id": "t6shMMcj8hR1",
    "outputId": "6533a8eb-a859-4b83-c564-e240b0c74892"
   },
   "outputs": [
    {
     "name": "stdout",
     "output_type": "stream",
     "text": [
      "0 sentences have disparate input-output lengths.\n"
     ]
    }
   ],
   "source": [
    "# make sure that each sequence of input and output is same length\n",
    "\n",
    "different_length = [1 if len(input) != len(output) else 0 for input, output in zip(X_encoded, Y_encoded)]\n",
    "print(\"{} sentences have disparate input-output lengths.\".format(sum(different_length)))"
   ]
  },
  {
   "cell_type": "code",
   "execution_count": 0,
   "metadata": {
    "colab": {
     "base_uri": "https://localhost:8080/",
     "height": 34
    },
    "colab_type": "code",
    "executionInfo": {
     "elapsed": 5211,
     "status": "ok",
     "timestamp": 1544947744995,
     "user": {
      "displayName": "Naveen Bharadwaj",
      "photoUrl": "https://lh4.googleusercontent.com/-yYj6SAmNV4o/AAAAAAAAAAI/AAAAAAAAAE0/TU_U_ezgx44/s64/photo.jpg",
      "userId": "14707737005437864614"
     },
     "user_tz": -330
    },
    "id": "sGaX-e4X8hUz",
    "outputId": "70f1ce73-6218-4243-dfd8-4a1741f9362c"
   },
   "outputs": [
    {
     "name": "stdout",
     "output_type": "stream",
     "text": [
      "Length of longest sentence: 271\n"
     ]
    }
   ],
   "source": [
    "# check length of longest sentence\n",
    "lengths = [len(seq) for seq in X_encoded]\n",
    "print(\"Length of longest sentence: {}\".format(max(lengths)))"
   ]
  },
  {
   "cell_type": "code",
   "execution_count": 0,
   "metadata": {
    "colab": {
     "base_uri": "https://localhost:8080/",
     "height": 347
    },
    "colab_type": "code",
    "executionInfo": {
     "elapsed": 5144,
     "status": "ok",
     "timestamp": 1544947744997,
     "user": {
      "displayName": "Naveen Bharadwaj",
      "photoUrl": "https://lh4.googleusercontent.com/-yYj6SAmNV4o/AAAAAAAAAAI/AAAAAAAAAE0/TU_U_ezgx44/s64/photo.jpg",
      "userId": "14707737005437864614"
     },
     "user_tz": -330
    },
    "id": "QvphIhgQ8hXL",
    "outputId": "36013db4-47a3-4504-d594-849f6e149b20"
   },
   "outputs": [
    {
     "data": {
      "image/png": "[encoded data removed]",
      "text/plain": [
       "<matplotlib.figure.Figure at 0x7fd8f91de5c0>"
      ]
     },
     "metadata": {
      "tags": []
     },
     "output_type": "display_data"
    }
   ],
   "source": [
    "sns.boxplot(lengths)\n",
    "plt.show()"
   ]
  },
  {
   "cell_type": "code",
   "execution_count": 0,
   "metadata": {
    "colab": {},
    "colab_type": "code",
    "collapsed": true,
    "id": "fqOIIYJU8hcE"
   },
   "outputs": [],
   "source": [
    "# Pad each sequence to MAX_SEQ_LENGTH using KERAS' pad_sequences() function. \n",
    "# Sentences longer than MAX_SEQ_LENGTH are truncated.\n",
    "# Sentences shorter than MAX_SEQ_LENGTH are padded with zeroes.\n",
    "\n",
    "# Truncation and padding can either be 'pre' or 'post'. \n",
    "# For padding we are using 'pre' padding type, that is, add zeroes on the left side.\n",
    "# For truncation, we are using 'post', that is, truncate a sentence from right side.\n",
    "\n",
    "MAX_SEQ_LENGTH = 100  # sequences greater than 100 in length will be truncated\n",
    "\n",
    "X_padded = pad_sequences(X_encoded, maxlen=MAX_SEQ_LENGTH, padding=\"pre\", truncating=\"post\")\n",
    "Y_padded = pad_sequences(Y_encoded, maxlen=MAX_SEQ_LENGTH, padding=\"pre\", truncating=\"post\")"
   ]
  },
  {
   "cell_type": "code",
   "execution_count": 0,
   "metadata": {
    "colab": {
     "base_uri": "https://localhost:8080/",
     "height": 306
    },
    "colab_type": "code",
    "executionInfo": {
     "elapsed": 6573,
     "status": "ok",
     "timestamp": 1544947746537,
     "user": {
      "displayName": "Naveen Bharadwaj",
      "photoUrl": "https://lh4.googleusercontent.com/-yYj6SAmNV4o/AAAAAAAAAAI/AAAAAAAAAE0/TU_U_ezgx44/s64/photo.jpg",
      "userId": "14707737005437864614"
     },
     "user_tz": -330
    },
    "id": "ibLPXdBu8hft",
    "outputId": "948d0170-afd8-4a28-be72-aecc755d3921"
   },
   "outputs": [
    {
     "name": "stdout",
     "output_type": "stream",
     "text": [
      "[    0     0     0     0     0     0     0     0     0     0     0     0\n",
      "     0     0     0     0     0     0     0     0     0     0     0     0\n",
      "     0     0     0     0     0     0     0     0     0     0     0     0\n",
      "     0     0     0     0     0     0     0     0     0     0     0     0\n",
      "     0     0     0     0     0     0     0     0     0     0     0     0\n",
      "     0     0     0     0     0     0     0     0     0     0     0     0\n",
      "     0     0     0     0     0     0     0     0     0     0  6423 24231\n",
      "     2  7652   102   170     2    47  1898     1   269    17     7 13230\n",
      "   619  1711  2761     3] \n",
      "\n",
      "\n",
      "\n",
      "[ 0  0  0  0  0  0  0  0  0  0  0  0  0  0  0  0  0  0  0  0  0  0  0  0\n",
      "  0  0  0  0  0  0  0  0  0  0  0  0  0  0  0  0  0  0  0  0  0  0  0  0\n",
      "  0  0  0  0  0  0  0  0  0  0  0  0  0  0  0  0  0  0  0  0  0  0  0  0\n",
      "  0  0  0  0  0  0  0  0  0  0  1  1  3 11  1  6  3  2  2  5  1  4  5  6\n",
      "  1  1 11  3]\n"
     ]
    }
   ],
   "source": [
    "# print the first sequence\n",
    "print(X_padded[0], \"\\n\"*3)\n",
    "print(Y_padded[0])"
   ]
  },
  {
   "cell_type": "code",
   "execution_count": 0,
   "metadata": {
    "colab": {},
    "colab_type": "code",
    "collapsed": true,
    "id": "zz9yWkk98hh9"
   },
   "outputs": [],
   "source": [
    "# assign padded sequences to X and Y\n",
    "X, Y = X_padded, Y_padded"
   ]
  },
  {
   "cell_type": "code",
   "execution_count": 0,
   "metadata": {
    "colab": {
     "base_uri": "https://localhost:8080/",
     "height": 204
    },
    "colab_type": "code",
    "executionInfo": {
     "elapsed": 54817,
     "status": "ok",
     "timestamp": 1544947794910,
     "user": {
      "displayName": "Naveen Bharadwaj",
      "photoUrl": "https://lh4.googleusercontent.com/-yYj6SAmNV4o/AAAAAAAAAAI/AAAAAAAAAE0/TU_U_ezgx44/s64/photo.jpg",
      "userId": "14707737005437864614"
     },
     "user_tz": -330
    },
    "id": "9_bVOLRL8hne",
    "outputId": "d8fb4cd0-eb4a-4ac3-cf8a-5ac6d83a9d12"
   },
   "outputs": [
    {
     "name": "stdout",
     "output_type": "stream",
     "text": [
      "--2018-12-16 08:09:07--  https://s3.amazonaws.com/dl4j-distribution/GoogleNews-vectors-negative300.bin.gz\n",
      "Resolving s3.amazonaws.com (s3.amazonaws.com)... 52.216.96.53\n",
      "Connecting to s3.amazonaws.com (s3.amazonaws.com)|52.216.96.53|:443... connected.\n",
      "HTTP request sent, awaiting response... 200 OK\n",
      "Length: 1647046227 (1.5G) [application/x-gzip]\n",
      "Saving to: ‘GoogleNews-vectors-negative300.bin.gz’\n",
      "\n",
      "GoogleNews-vectors- 100%[===================>]   1.53G  34.8MB/s    in 46s     \n",
      "\n",
      "2018-12-16 08:09:53 (34.3 MB/s) - ‘GoogleNews-vectors-negative300.bin.gz’ saved [1647046227/1647046227]\n",
      "\n"
     ]
    }
   ],
   "source": [
    "!wget https://s3.amazonaws.com/dl4j-distribution/GoogleNews-vectors-negative300.bin.gz"
   ]
  },
  {
   "cell_type": "code",
   "execution_count": 0,
   "metadata": {
    "colab": {},
    "colab_type": "code",
    "collapsed": true,
    "id": "ik0nbsT18hqt"
   },
   "outputs": [],
   "source": [
    "path = 'GoogleNews-vectors-negative300.bin.gz'\n",
    "# load word2vec using the following function present in the gensim library\n",
    "word2vec = KeyedVectors.load_word2vec_format(path, binary=True)"
   ]
  },
  {
   "cell_type": "code",
   "execution_count": 0,
   "metadata": {
    "colab": {
     "base_uri": "https://localhost:8080/",
     "height": 187
    },
    "colab_type": "code",
    "executionInfo": {
     "elapsed": 202317,
     "status": "ok",
     "timestamp": 1544947942604,
     "user": {
      "displayName": "Naveen Bharadwaj",
      "photoUrl": "https://lh4.googleusercontent.com/-yYj6SAmNV4o/AAAAAAAAAAI/AAAAAAAAAE0/TU_U_ezgx44/s64/photo.jpg",
      "userId": "14707737005437864614"
     },
     "user_tz": -330
    },
    "id": "h7IvDyYE8hs5",
    "outputId": "94c7f227-0310-4ca6-8313-713cee8ef11d"
   },
   "outputs": [
    {
     "data": {
      "text/plain": [
       "[('Queen', 0.4929388165473938),\n",
       " ('Tupou_V.', 0.45174291729927063),\n",
       " ('Oprah_BFF_Gayle', 0.4422132670879364),\n",
       " ('Jackson', 0.440250426530838),\n",
       " ('NECN_Alison', 0.43312832713127136),\n",
       " ('Whitfield', 0.42834725975990295),\n",
       " ('Ida_Vandross', 0.42084527015686035),\n",
       " ('prosecutor_Dan_Satterberg', 0.42075902223587036),\n",
       " ('martin_Luther_King', 0.42059648036956787),\n",
       " ('Coretta_King', 0.42027339339256287)]"
      ]
     },
     "execution_count": 24,
     "metadata": {
      "tags": []
     },
     "output_type": "execute_result"
    }
   ],
   "source": [
    "# word2vec effectiveness\n",
    "word2vec.most_similar(positive = [\"King\", \"Woman\"], negative = [\"Man\"])"
   ]
  },
  {
   "cell_type": "code",
   "execution_count": 0,
   "metadata": {
    "colab": {},
    "colab_type": "code",
    "collapsed": true,
    "id": "CYd574Ar8hwe"
   },
   "outputs": [],
   "source": [
    "# assign word vectors from word2vec model\n",
    "\n",
    "EMBEDDING_SIZE  = 300  # each word in word2vec model is represented using a 300 dimensional vector\n",
    "VOCABULARY_SIZE = len(word_tokenizer.word_index) + 1\n",
    "\n",
    "# create an empty embedding matix\n",
    "embedding_weights = np.zeros((VOCABULARY_SIZE, EMBEDDING_SIZE))\n",
    "\n",
    "# create a word to index dictionary mapping\n",
    "word2id = word_tokenizer.word_index\n",
    "\n",
    "# copy vectors from word2vec model to the words present in corpus\n",
    "for word, index in word2id.items():\n",
    "    try:\n",
    "        embedding_weights[index, :] = word2vec[word]\n",
    "    except KeyError:\n",
    "        pass"
   ]
  },
  {
   "cell_type": "code",
   "execution_count": 0,
   "metadata": {
    "colab": {
     "base_uri": "https://localhost:8080/",
     "height": 34
    },
    "colab_type": "code",
    "executionInfo": {
     "elapsed": 202213,
     "status": "ok",
     "timestamp": 1544947942619,
     "user": {
      "displayName": "Naveen Bharadwaj",
      "photoUrl": "https://lh4.googleusercontent.com/-yYj6SAmNV4o/AAAAAAAAAAI/AAAAAAAAAE0/TU_U_ezgx44/s64/photo.jpg",
      "userId": "14707737005437864614"
     },
     "user_tz": -330
    },
    "id": "c8FaezL_8hyf",
    "outputId": "407cf004-310d-4d7b-e299-eb8e2b05fb4d"
   },
   "outputs": [
    {
     "name": "stdout",
     "output_type": "stream",
     "text": [
      "Embeddings shape: (59449, 300)\n"
     ]
    }
   ],
   "source": [
    "# check embedding dimension\n",
    "print(\"Embeddings shape: {}\".format(embedding_weights.shape))"
   ]
  },
  {
   "cell_type": "code",
   "execution_count": 0,
   "metadata": {
    "colab": {
     "base_uri": "https://localhost:8080/",
     "height": 1037
    },
    "colab_type": "code",
    "executionInfo": {
     "elapsed": 202167,
     "status": "ok",
     "timestamp": 1544947942623,
     "user": {
      "displayName": "Naveen Bharadwaj",
      "photoUrl": "https://lh4.googleusercontent.com/-yYj6SAmNV4o/AAAAAAAAAAI/AAAAAAAAAE0/TU_U_ezgx44/s64/photo.jpg",
      "userId": "14707737005437864614"
     },
     "user_tz": -330
    },
    "id": "DxgK75tE8h2U",
    "outputId": "48200496-377c-401e-842f-b6172613490b"
   },
   "outputs": [
    {
     "data": {
      "text/plain": [
       "array([ 0.4453125 , -0.20019531,  0.20019531, -0.03149414,  0.078125  ,\n",
       "       -0.390625  ,  0.13671875, -0.13867188,  0.05395508,  0.10546875,\n",
       "       -0.05029297, -0.23730469,  0.19921875,  0.12597656, -0.12695312,\n",
       "        0.34179688,  0.06347656,  0.26757812, -0.07324219, -0.29101562,\n",
       "        0.10498047,  0.11914062,  0.23730469,  0.00640869,  0.12451172,\n",
       "       -0.00939941, -0.02770996,  0.03076172,  0.07421875, -0.22851562,\n",
       "       -0.08056641, -0.05273438,  0.16894531,  0.19824219, -0.15625   ,\n",
       "       -0.08740234,  0.10742188, -0.07177734,  0.05200195,  0.25976562,\n",
       "        0.171875  , -0.13574219,  0.06738281,  0.00531006,  0.15527344,\n",
       "       -0.03515625,  0.08789062,  0.3359375 , -0.12890625,  0.17578125,\n",
       "       -0.08642578,  0.32421875, -0.09033203,  0.35351562,  0.24316406,\n",
       "       -0.07470703, -0.06640625, -0.17578125,  0.06689453, -0.03833008,\n",
       "        0.0100708 , -0.21484375, -0.03686523,  0.04394531,  0.02209473,\n",
       "        0.00219727, -0.22460938,  0.03015137, -0.21582031,  0.16015625,\n",
       "        0.23339844, -0.16699219, -0.09228516,  0.10644531,  0.19335938,\n",
       "       -0.26757812,  0.15722656, -0.08691406,  0.11181641,  0.14941406,\n",
       "       -0.20507812,  0.04882812, -0.07519531, -0.21582031, -0.10107422,\n",
       "       -0.13378906, -0.06103516,  0.05444336,  0.07470703,  0.09521484,\n",
       "       -0.0144043 ,  0.27929688, -0.25585938, -0.05273438, -0.22460938,\n",
       "        0.10253906, -0.15136719,  0.21289062, -0.04711914, -0.12109375,\n",
       "        0.04663086,  0.25976562,  0.13574219,  0.00799561,  0.02001953,\n",
       "        0.1796875 ,  0.30664062,  0.06152344,  0.13574219, -0.09619141,\n",
       "       -0.07421875,  0.38671875,  0.20800781,  0.12695312,  0.05200195,\n",
       "        0.17675781, -0.16796875, -0.19335938, -0.06152344, -0.07568359,\n",
       "       -0.18457031,  0.06030273, -0.15136719, -0.1953125 , -0.23339844,\n",
       "        0.00738525, -0.02478027, -0.09765625, -0.06054688,  0.20214844,\n",
       "       -0.2734375 ,  0.00595093, -0.34570312, -0.12988281,  0.00418091,\n",
       "        0.09960938,  0.0246582 ,  0.15917969, -0.02038574,  0.30273438,\n",
       "       -0.20800781, -0.20214844, -0.03930664, -0.06494141,  0.00436401,\n",
       "       -0.02270508, -0.171875  ,  0.30273438, -0.16113281, -0.49414062,\n",
       "        0.3515625 ,  0.39257812,  0.09814453,  0.41796875,  0.05371094,\n",
       "        0.02392578, -0.03710938, -0.08251953, -0.38671875, -0.40625   ,\n",
       "       -0.05664062,  0.203125  , -0.01782227,  0.3359375 ,  0.19140625,\n",
       "       -0.44335938,  0.00927734,  0.24804688, -0.05102539,  0.19726562,\n",
       "        0.03881836,  0.03442383, -0.40039062, -0.09912109, -0.07128906,\n",
       "        0.21484375, -0.01422119,  0.04907227, -0.07421875, -0.21582031,\n",
       "       -0.41992188,  0.02172852,  0.11083984, -0.33398438, -0.2734375 ,\n",
       "       -0.05322266, -0.16601562, -0.28515625, -0.12207031,  0.04882812,\n",
       "       -0.0625    , -0.04077148, -0.16503906,  0.0480957 , -0.21191406,\n",
       "        0.20019531, -0.2109375 ,  0.10839844, -0.14648438, -0.07958984,\n",
       "       -0.05151367, -0.16601562, -0.24902344, -0.375     ,  0.05664062,\n",
       "       -0.13671875, -0.2578125 ,  0.28515625, -0.04736328,  0.13574219,\n",
       "       -0.14550781,  0.19433594, -0.21972656,  0.08447266, -0.10791016,\n",
       "       -0.11816406, -0.16015625,  0.12060547, -0.10888672,  0.04345703,\n",
       "        0.11474609, -0.08447266, -0.00720215,  0.03662109, -0.38671875,\n",
       "       -0.03881836, -0.03198242,  0.00344849,  0.22558594, -0.06787109,\n",
       "       -0.16699219,  0.2421875 ,  0.05712891,  0.27539062, -0.0456543 ,\n",
       "       -0.19042969, -0.17285156,  0.00836182, -0.03271484,  0.16992188,\n",
       "       -0.18554688, -0.0703125 , -0.32617188, -0.00668335, -0.02770996,\n",
       "        0.3359375 ,  0.125     , -0.2109375 ,  0.06005859, -0.07080078,\n",
       "        0.11132812,  0.125     ,  0.25390625,  0.29296875, -0.03125   ,\n",
       "        0.09033203, -0.20507812, -0.07861328,  0.02062988, -0.0546875 ,\n",
       "       -0.23339844,  0.00096893, -0.04516602,  0.16894531, -0.22167969,\n",
       "        0.08105469,  0.33398438,  0.09619141,  0.00866699, -0.03271484,\n",
       "        0.05493164,  0.12109375,  0.16210938, -0.10302734,  0.27148438,\n",
       "       -0.03344727, -0.30273438,  0.04223633,  0.08496094, -0.15527344,\n",
       "        0.10107422, -0.11474609, -0.13085938,  0.22949219,  0.12988281,\n",
       "        0.09863281, -0.03588867,  0.10693359, -0.24902344,  0.19238281,\n",
       "       -0.05322266, -0.09033203, -0.31640625, -0.5703125 , -0.15917969,\n",
       "        0.0291748 , -0.0246582 , -0.07714844, -0.04663086, -0.17578125])"
      ]
     },
     "execution_count": 27,
     "metadata": {
      "tags": []
     },
     "output_type": "execute_result"
    }
   ],
   "source": [
    "# let's look at an embedding of a word\n",
    "embedding_weights[word_tokenizer.word_index['joy']]"
   ]
  },
  {
   "cell_type": "code",
   "execution_count": 0,
   "metadata": {
    "colab": {},
    "colab_type": "code",
    "collapsed": true,
    "id": "caDadCZm8h5i"
   },
   "outputs": [],
   "source": [
    "# use Keras' to_categorical function to one-hot encode Y\n",
    "Y = to_categorical(Y)"
   ]
  },
  {
   "cell_type": "code",
   "execution_count": 0,
   "metadata": {
    "colab": {
     "base_uri": "https://localhost:8080/",
     "height": 34
    },
    "colab_type": "code",
    "executionInfo": {
     "elapsed": 202452,
     "status": "ok",
     "timestamp": 1544947943017,
     "user": {
      "displayName": "Naveen Bharadwaj",
      "photoUrl": "https://lh4.googleusercontent.com/-yYj6SAmNV4o/AAAAAAAAAAI/AAAAAAAAAE0/TU_U_ezgx44/s64/photo.jpg",
      "userId": "14707737005437864614"
     },
     "user_tz": -330
    },
    "id": "2yCtC4kE8iov",
    "outputId": "8b0df43d-8cfa-471f-f1ea-53cc0775f57b"
   },
   "outputs": [
    {
     "name": "stdout",
     "output_type": "stream",
     "text": [
      "(72202, 100, 13)\n"
     ]
    }
   ],
   "source": [
    "# print Y of the first output sequqnce\n",
    "print(Y.shape)"
   ]
  },
  {
   "cell_type": "code",
   "execution_count": 0,
   "metadata": {
    "colab": {},
    "colab_type": "code",
    "collapsed": true,
    "id": "toAKQPbF8irS"
   },
   "outputs": [],
   "source": [
    "# split entire data into training and testing sets\n",
    "TEST_SIZE = 0.15\n",
    "X_train, X_test, Y_train, Y_test = train_test_split(X, Y, test_size=TEST_SIZE, random_state=4)"
   ]
  },
  {
   "cell_type": "code",
   "execution_count": 0,
   "metadata": {
    "colab": {},
    "colab_type": "code",
    "collapsed": true,
    "id": "lW1SfU1L8iwq"
   },
   "outputs": [],
   "source": [
    "# split training data into training and validation sets\n",
    "VALID_SIZE = 0.15\n",
    "X_train, X_validation, Y_train, Y_validation = train_test_split(X_train, Y_train, test_size=VALID_SIZE, random_state=4)"
   ]
  },
  {
   "cell_type": "code",
   "execution_count": 0,
   "metadata": {
    "colab": {
     "base_uri": "https://localhost:8080/",
     "height": 204
    },
    "colab_type": "code",
    "executionInfo": {
     "elapsed": 202688,
     "status": "ok",
     "timestamp": 1544947943413,
     "user": {
      "displayName": "Naveen Bharadwaj",
      "photoUrl": "https://lh4.googleusercontent.com/-yYj6SAmNV4o/AAAAAAAAAAI/AAAAAAAAAE0/TU_U_ezgx44/s64/photo.jpg",
      "userId": "14707737005437864614"
     },
     "user_tz": -330
    },
    "id": "TVoRwglu8izb",
    "outputId": "c016fa01-d4f3-404c-cca4-7f1408be3d2a"
   },
   "outputs": [
    {
     "name": "stdout",
     "output_type": "stream",
     "text": [
      "TRAINING DATA\n",
      "Shape of input sequences: (52165, 100)\n",
      "Shape of output sequences: (52165, 100, 13)\n",
      "--------------------------------------------------\n",
      "VALIDATION DATA\n",
      "Shape of input sequences: (9206, 100)\n",
      "Shape of output sequences: (9206, 100, 13)\n",
      "--------------------------------------------------\n",
      "TESTING DATA\n",
      "Shape of input sequences: (10831, 100)\n",
      "Shape of output sequences: (10831, 100, 13)\n"
     ]
    }
   ],
   "source": [
    "# print number of samples in each set\n",
    "print(\"TRAINING DATA\")\n",
    "print('Shape of input sequences: {}'.format(X_train.shape))\n",
    "print('Shape of output sequences: {}'.format(Y_train.shape))\n",
    "print(\"-\"*50)\n",
    "print(\"VALIDATION DATA\")\n",
    "print('Shape of input sequences: {}'.format(X_validation.shape))\n",
    "print('Shape of output sequences: {}'.format(Y_validation.shape))\n",
    "print(\"-\"*50)\n",
    "print(\"TESTING DATA\")\n",
    "print('Shape of input sequences: {}'.format(X_test.shape))\n",
    "print('Shape of output sequences: {}'.format(Y_test.shape))"
   ]
  },
  {
   "cell_type": "code",
   "execution_count": 0,
   "metadata": {
    "colab": {},
    "colab_type": "code",
    "collapsed": true,
    "id": "6qBggfKz8i2H"
   },
   "outputs": [],
   "source": [
    "# total number of tags\n",
    "NUM_CLASSES = Y.shape[2]"
   ]
  },
  {
   "cell_type": "code",
   "execution_count": 0,
   "metadata": {
    "colab": {},
    "colab_type": "code",
    "collapsed": true,
    "id": "b60sVBrM8i6w"
   },
   "outputs": [],
   "source": [
    "# create architecture\n",
    "\n",
    "rnn_model = Sequential()\n",
    "\n",
    "# create embedding layer - usually the first layer in text problems\n",
    "rnn_model.add(Embedding(input_dim     =  VOCABULARY_SIZE,         # vocabulary size - number of unique words in data\n",
    "                        output_dim    =  EMBEDDING_SIZE,          # length of vector with which each word is represented\n",
    "                        input_length  =  MAX_SEQ_LENGTH,          # length of input sequence\n",
    "                        trainable     =  False                    # False - don't update the embeddings\n",
    "))\n",
    "\n",
    "# add an RNN layer which contains 64 RNN cells\n",
    "rnn_model.add(SimpleRNN(64, \n",
    "              return_sequences=True  # True - return whole sequence; False - return single output of the end of the sequence\n",
    "))\n",
    "\n",
    "# add time distributed (output at each sequence) layer\n",
    "rnn_model.add(TimeDistributed(Dense(NUM_CLASSES, activation='softmax')))"
   ]
  },
  {
   "cell_type": "code",
   "execution_count": 0,
   "metadata": {
    "colab": {},
    "colab_type": "code",
    "collapsed": true,
    "id": "Gbeqo0DQ8i5D"
   },
   "outputs": [],
   "source": [
    "rnn_model.compile(loss      =  'categorical_crossentropy',\n",
    "                  optimizer =  'adam',\n",
    "                  metrics   =  ['acc'])"
   ]
  },
  {
   "cell_type": "code",
   "execution_count": 0,
   "metadata": {
    "colab": {
     "base_uri": "https://localhost:8080/",
     "height": 238
    },
    "colab_type": "code",
    "executionInfo": {
     "elapsed": 203080,
     "status": "ok",
     "timestamp": 1544947944049,
     "user": {
      "displayName": "Naveen Bharadwaj",
      "photoUrl": "https://lh4.googleusercontent.com/-yYj6SAmNV4o/AAAAAAAAAAI/AAAAAAAAAE0/TU_U_ezgx44/s64/photo.jpg",
      "userId": "14707737005437864614"
     },
     "user_tz": -330
    },
    "id": "MdVm4iOR8iu2",
    "outputId": "e5d12d7f-8427-447a-baa7-aa85504dae9b"
   },
   "outputs": [
    {
     "name": "stdout",
     "output_type": "stream",
     "text": [
      "_________________________________________________________________\n",
      "Layer (type)                 Output Shape              Param #   \n",
      "=================================================================\n",
      "embedding_1 (Embedding)      (None, 100, 300)          17834700  \n",
      "_________________________________________________________________\n",
      "simple_rnn_1 (SimpleRNN)     (None, 100, 64)           23360     \n",
      "_________________________________________________________________\n",
      "time_distributed_1 (TimeDist (None, 100, 13)           845       \n",
      "=================================================================\n",
      "Total params: 17,858,905\n",
      "Trainable params: 24,205\n",
      "Non-trainable params: 17,834,700\n",
      "_________________________________________________________________\n"
     ]
    }
   ],
   "source": [
    "# check summary of the model\n",
    "rnn_model.summary()"
   ]
  },
  {
   "cell_type": "code",
   "execution_count": 0,
   "metadata": {
    "colab": {
     "base_uri": "https://localhost:8080/",
     "height": 374
    },
    "colab_type": "code",
    "executionInfo": {
     "elapsed": 618105,
     "status": "ok",
     "timestamp": 1544948359135,
     "user": {
      "displayName": "Naveen Bharadwaj",
      "photoUrl": "https://lh4.googleusercontent.com/-yYj6SAmNV4o/AAAAAAAAAAI/AAAAAAAAAE0/TU_U_ezgx44/s64/photo.jpg",
      "userId": "14707737005437864614"
     },
     "user_tz": -330
    },
    "id": "So78X-rA8hl2",
    "outputId": "f9be3d5a-f664-45a8-dc6b-d8a840a3d064"
   },
   "outputs": [
    {
     "name": "stdout",
     "output_type": "stream",
     "text": [
      "Train on 52165 samples, validate on 9206 samples\n",
      "Epoch 1/10\n",
      "52165/52165 [==============================] - 41s 790us/step - loss: 0.5235 - acc: 0.8504 - val_loss: 0.3491 - val_acc: 0.8953\n",
      "Epoch 2/10\n",
      "52165/52165 [==============================] - 39s 755us/step - loss: 0.2885 - acc: 0.9123 - val_loss: 0.2423 - val_acc: 0.9251\n",
      "Epoch 3/10\n",
      "52165/52165 [==============================] - 42s 798us/step - loss: 0.2193 - acc: 0.9315 - val_loss: 0.1981 - val_acc: 0.9369\n",
      "Epoch 4/10\n",
      "52165/52165 [==============================] - 42s 799us/step - loss: 0.1865 - acc: 0.9399 - val_loss: 0.1734 - val_acc: 0.9437\n",
      "Epoch 5/10\n",
      "52165/52165 [==============================] - 42s 801us/step - loss: 0.1666 - acc: 0.9458 - val_loss: 0.1578 - val_acc: 0.9482\n",
      "Epoch 6/10\n",
      "52165/52165 [==============================] - 42s 801us/step - loss: 0.1529 - acc: 0.9496 - val_loss: 0.1462 - val_acc: 0.9515\n",
      "Epoch 7/10\n",
      "52165/52165 [==============================] - 42s 801us/step - loss: 0.1433 - acc: 0.9525 - val_loss: 0.1382 - val_acc: 0.9540\n",
      "Epoch 8/10\n",
      "52165/52165 [==============================] - 42s 801us/step - loss: 0.1361 - acc: 0.9547 - val_loss: 0.1326 - val_acc: 0.9555\n",
      "Epoch 9/10\n",
      "52165/52165 [==============================] - 42s 798us/step - loss: 0.1308 - acc: 0.9562 - val_loss: 0.1282 - val_acc: 0.9562\n",
      "Epoch 10/10\n",
      "52165/52165 [==============================] - 42s 798us/step - loss: 0.1267 - acc: 0.9573 - val_loss: 0.1242 - val_acc: 0.9579\n"
     ]
    }
   ],
   "source": [
    "rnn_training = rnn_model.fit(X_train, Y_train, batch_size=128, epochs=10, validation_data=(X_validation, Y_validation))"
   ]
  },
  {
   "cell_type": "code",
   "execution_count": 0,
   "metadata": {
    "colab": {
     "base_uri": "https://localhost:8080/",
     "height": 376
    },
    "colab_type": "code",
    "executionInfo": {
     "elapsed": 618053,
     "status": "ok",
     "timestamp": 1544948359139,
     "user": {
      "displayName": "Naveen Bharadwaj",
      "photoUrl": "https://lh4.googleusercontent.com/-yYj6SAmNV4o/AAAAAAAAAAI/AAAAAAAAAE0/TU_U_ezgx44/s64/photo.jpg",
      "userId": "14707737005437864614"
     },
     "user_tz": -330
    },
    "id": "G6dNuwWD8haL",
    "outputId": "e564a746-30fb-471a-bce8-2fdb0a036dbb"
   },
   "outputs": [
    {
     "data": {
      "image/png": "[encoded data removed]",
      "text/plain": [
       "<matplotlib.figure.Figure at 0x7fd876d11da0>"
      ]
     },
     "metadata": {
      "tags": []
     },
     "output_type": "display_data"
    }
   ],
   "source": [
    "# visualise training history\n",
    "plt.plot(rnn_training.history['acc'])\n",
    "plt.plot(rnn_training.history['val_acc'])\n",
    "plt.title('model accuracy')\n",
    "plt.ylabel('accuracy')\n",
    "plt.xlabel('epoch')\n",
    "plt.legend(['train', 'test'], loc=\"lower right\")\n",
    "plt.show()"
   ]
  },
  {
   "cell_type": "code",
   "execution_count": 0,
   "metadata": {
    "colab": {},
    "colab_type": "code",
    "collapsed": true,
    "id": "iMbIUSoY-J9A"
   },
   "outputs": [],
   "source": [
    "# create architecture\n",
    "\n",
    "rnn_model = Sequential()\n",
    "\n",
    "# create embedding layer - usually the first layer in text problems\n",
    "rnn_model.add(Embedding(input_dim     =  VOCABULARY_SIZE,         # vocabulary size - number of unique words in data\n",
    "                        output_dim    =  EMBEDDING_SIZE,          # length of vector with which each word is represented\n",
    "                        input_length  =  MAX_SEQ_LENGTH,          # length of input sequence\n",
    "                        trainable     =  True                     # True - update the embeddings while training\n",
    "))\n",
    "\n",
    "# add an RNN layer which contains 64 RNN cells\n",
    "rnn_model.add(SimpleRNN(64, \n",
    "              return_sequences=True  # True - return whole sequence; False - return single output of the end of the sequence\n",
    "))\n",
    "\n",
    "# add time distributed (output at each sequence) layer\n",
    "rnn_model.add(TimeDistributed(Dense(NUM_CLASSES, activation='softmax')))"
   ]
  },
  {
   "cell_type": "code",
   "execution_count": 0,
   "metadata": {
    "colab": {},
    "colab_type": "code",
    "collapsed": true,
    "id": "0GDoXaxQ-KAF"
   },
   "outputs": [],
   "source": [
    "rnn_model.compile(loss      =  'categorical_crossentropy',\n",
    "                  optimizer =  'adam',\n",
    "                  metrics   =  ['acc'])"
   ]
  },
  {
   "cell_type": "code",
   "execution_count": 0,
   "metadata": {
    "colab": {
     "base_uri": "https://localhost:8080/",
     "height": 238
    },
    "colab_type": "code",
    "executionInfo": {
     "elapsed": 618292,
     "status": "ok",
     "timestamp": 1544948359549,
     "user": {
      "displayName": "Naveen Bharadwaj",
      "photoUrl": "https://lh4.googleusercontent.com/-yYj6SAmNV4o/AAAAAAAAAAI/AAAAAAAAAE0/TU_U_ezgx44/s64/photo.jpg",
      "userId": "14707737005437864614"
     },
     "user_tz": -330
    },
    "id": "PfkHkBR4-KEs",
    "outputId": "fa829226-a217-41bf-bbb4-60782e2e1dc7"
   },
   "outputs": [
    {
     "name": "stdout",
     "output_type": "stream",
     "text": [
      "_________________________________________________________________\n",
      "Layer (type)                 Output Shape              Param #   \n",
      "=================================================================\n",
      "embedding_2 (Embedding)      (None, 100, 300)          17834700  \n",
      "_________________________________________________________________\n",
      "simple_rnn_2 (SimpleRNN)     (None, 100, 64)           23360     \n",
      "_________________________________________________________________\n",
      "time_distributed_2 (TimeDist (None, 100, 13)           845       \n",
      "=================================================================\n",
      "Total params: 17,858,905\n",
      "Trainable params: 17,858,905\n",
      "Non-trainable params: 0\n",
      "_________________________________________________________________\n"
     ]
    }
   ],
   "source": [
    "# check summary of the model\n",
    "rnn_model.summary()"
   ]
  },
  {
   "cell_type": "code",
   "execution_count": 0,
   "metadata": {
    "colab": {
     "base_uri": "https://localhost:8080/",
     "height": 374
    },
    "colab_type": "code",
    "executionInfo": {
     "elapsed": 1151912,
     "status": "ok",
     "timestamp": 1544948893254,
     "user": {
      "displayName": "Naveen Bharadwaj",
      "photoUrl": "https://lh4.googleusercontent.com/-yYj6SAmNV4o/AAAAAAAAAAI/AAAAAAAAAE0/TU_U_ezgx44/s64/photo.jpg",
      "userId": "14707737005437864614"
     },
     "user_tz": -330
    },
    "id": "Zvw4pqaE-KH2",
    "outputId": "a81ab7e8-3647-482c-f48f-0ad3127adc3f"
   },
   "outputs": [
    {
     "name": "stdout",
     "output_type": "stream",
     "text": [
      "Train on 52165 samples, validate on 9206 samples\n",
      "Epoch 1/10\n",
      "52165/52165 [==============================] - 54s 1ms/step - loss: 0.2043 - acc: 0.9518 - val_loss: 0.0407 - val_acc: 0.9879\n",
      "Epoch 2/10\n",
      "52165/52165 [==============================] - 53s 1ms/step - loss: 0.0294 - acc: 0.9905 - val_loss: 0.0296 - val_acc: 0.9898\n",
      "Epoch 3/10\n",
      "52165/52165 [==============================] - 53s 1ms/step - loss: 0.0206 - acc: 0.9928 - val_loss: 0.0275 - val_acc: 0.9902\n",
      "Epoch 4/10\n",
      "52165/52165 [==============================] - 53s 1ms/step - loss: 0.0171 - acc: 0.9939 - val_loss: 0.0271 - val_acc: 0.9904\n",
      "Epoch 5/10\n",
      "52165/52165 [==============================] - 53s 1ms/step - loss: 0.0147 - acc: 0.9948 - val_loss: 0.0276 - val_acc: 0.9904\n",
      "Epoch 6/10\n",
      "52165/52165 [==============================] - 53s 1ms/step - loss: 0.0126 - acc: 0.9956 - val_loss: 0.0286 - val_acc: 0.9903\n",
      "Epoch 7/10\n",
      "52165/52165 [==============================] - 53s 1ms/step - loss: 0.0107 - acc: 0.9963 - val_loss: 0.0302 - val_acc: 0.9900\n",
      "Epoch 8/10\n",
      "52165/52165 [==============================] - 53s 1ms/step - loss: 0.0091 - acc: 0.9970 - val_loss: 0.0322 - val_acc: 0.9898\n",
      "Epoch 9/10\n",
      "52165/52165 [==============================] - 53s 1ms/step - loss: 0.0076 - acc: 0.9976 - val_loss: 0.0346 - val_acc: 0.9895\n",
      "Epoch 10/10\n",
      "52165/52165 [==============================] - 53s 1ms/step - loss: 0.0064 - acc: 0.9980 - val_loss: 0.0372 - val_acc: 0.9892\n"
     ]
    }
   ],
   "source": [
    "rnn_training = rnn_model.fit(X_train, Y_train, batch_size=128, epochs=10, validation_data=(X_validation, Y_validation))"
   ]
  },
  {
   "cell_type": "code",
   "execution_count": 0,
   "metadata": {
    "colab": {
     "base_uri": "https://localhost:8080/",
     "height": 376
    },
    "colab_type": "code",
    "executionInfo": {
     "elapsed": 1151797,
     "status": "ok",
     "timestamp": 1544948893259,
     "user": {
      "displayName": "Naveen Bharadwaj",
      "photoUrl": "https://lh4.googleusercontent.com/-yYj6SAmNV4o/AAAAAAAAAAI/AAAAAAAAAE0/TU_U_ezgx44/s64/photo.jpg",
      "userId": "14707737005437864614"
     },
     "user_tz": -330
    },
    "id": "EB3gb0yI-KNS",
    "outputId": "f20a27cc-30c8-4b4c-faeb-3820a658304a"
   },
   "outputs": [
    {
     "data": {
      "image/png": "[encoded data removed]",
      "text/plain": [
       "<matplotlib.figure.Figure at 0x7fd875e6d748>"
      ]
     },
     "metadata": {
      "tags": []
     },
     "output_type": "display_data"
    }
   ],
   "source": [
    "# visualise training history\n",
    "plt.plot(rnn_training.history['acc'])\n",
    "plt.plot(rnn_training.history['val_acc'])\n",
    "plt.title('model accuracy')\n",
    "plt.ylabel('accuracy')\n",
    "plt.xlabel('epoch')\n",
    "plt.legend(['train', 'test'], loc=\"lower right\")\n",
    "plt.show()"
   ]
  },
  {
   "cell_type": "code",
   "execution_count": 0,
   "metadata": {
    "colab": {},
    "colab_type": "code",
    "collapsed": true,
    "id": "sIsR-Yop-KST"
   },
   "outputs": [],
   "source": [
    "# create architecture\n",
    "\n",
    "rnn_model = Sequential()\n",
    "\n",
    "# create embedding layer - usually the first layer in text problems\n",
    "rnn_model.add(Embedding(input_dim     =  VOCABULARY_SIZE,         # vocabulary size - number of unique words in data\n",
    "                        output_dim    =  EMBEDDING_SIZE,          # length of vector with which each word is represented\n",
    "                        input_length  =  MAX_SEQ_LENGTH,          # length of input sequence\n",
    "                        weights       = [embedding_weights],      # word embedding matrix\n",
    "                        trainable     =  True                     # True - update the embeddings while training\n",
    "))\n",
    "\n",
    "# add an RNN layer which contains 64 RNN cells\n",
    "rnn_model.add(SimpleRNN(64, \n",
    "              return_sequences=True  # True - return whole sequence; False - return single output of the end of the sequence\n",
    "))\n",
    "\n",
    "# add time distributed (output at each sequence) layer\n",
    "rnn_model.add(TimeDistributed(Dense(NUM_CLASSES, activation='softmax')))"
   ]
  },
  {
   "cell_type": "code",
   "execution_count": 0,
   "metadata": {
    "colab": {},
    "colab_type": "code",
    "collapsed": true,
    "id": "TEMoH6zM-KU7"
   },
   "outputs": [],
   "source": [
    "rnn_model.compile(loss      =  'categorical_crossentropy',\n",
    "                  optimizer =  'adam',\n",
    "                  metrics   =  ['acc'])"
   ]
  },
  {
   "cell_type": "code",
   "execution_count": 0,
   "metadata": {
    "colab": {
     "base_uri": "https://localhost:8080/",
     "height": 238
    },
    "colab_type": "code",
    "executionInfo": {
     "elapsed": 1152008,
     "status": "ok",
     "timestamp": 1544948893673,
     "user": {
      "displayName": "Naveen Bharadwaj",
      "photoUrl": "https://lh4.googleusercontent.com/-yYj6SAmNV4o/AAAAAAAAAAI/AAAAAAAAAE0/TU_U_ezgx44/s64/photo.jpg",
      "userId": "14707737005437864614"
     },
     "user_tz": -330
    },
    "id": "u5jaVt3L-KX0",
    "outputId": "a8a153d9-6811-4e0e-bc93-d7fab8bc3cfe"
   },
   "outputs": [
    {
     "name": "stdout",
     "output_type": "stream",
     "text": [
      "_________________________________________________________________\n",
      "Layer (type)                 Output Shape              Param #   \n",
      "=================================================================\n",
      "embedding_3 (Embedding)      (None, 100, 300)          17834700  \n",
      "_________________________________________________________________\n",
      "simple_rnn_3 (SimpleRNN)     (None, 100, 64)           23360     \n",
      "_________________________________________________________________\n",
      "time_distributed_3 (TimeDist (None, 100, 13)           845       \n",
      "=================================================================\n",
      "Total params: 17,858,905\n",
      "Trainable params: 17,858,905\n",
      "Non-trainable params: 0\n",
      "_________________________________________________________________\n"
     ]
    }
   ],
   "source": [
    "# check summary of the model\n",
    "rnn_model.summary()"
   ]
  },
  {
   "cell_type": "code",
   "execution_count": 47,
   "metadata": {
    "colab": {
     "base_uri": "https://localhost:8080/",
     "height": 374
    },
    "colab_type": "code",
    "executionInfo": {
     "elapsed": 388,
     "status": "ok",
     "timestamp": 1544949416020,
     "user": {
      "displayName": "Naveen Bharadwaj",
      "photoUrl": "https://lh4.googleusercontent.com/-yYj6SAmNV4o/AAAAAAAAAAI/AAAAAAAAAE0/TU_U_ezgx44/s64/photo.jpg",
      "userId": "14707737005437864614"
     },
     "user_tz": -330
    },
    "id": "KX2-h4bj-Kc2",
    "outputId": "1b8e8bbd-1d00-4fd7-ca25-713a66ad0e70"
   },
   "outputs": [
    {
     "name": "stdout",
     "output_type": "stream",
     "text": [
      "Train on 52165 samples, validate on 9206 samples\n",
      "Epoch 1/10\n",
      "52165/52165 [==============================] - 51s 972us/step - loss: 0.1857 - acc: 0.9565 - val_loss: 0.0352 - val_acc: 0.9890\n",
      "Epoch 2/10\n",
      "52165/52165 [==============================] - 50s 958us/step - loss: 0.0269 - acc: 0.9910 - val_loss: 0.0273 - val_acc: 0.9905\n",
      "Epoch 3/10\n",
      "52165/52165 [==============================] - 50s 958us/step - loss: 0.0200 - acc: 0.9929 - val_loss: 0.0256 - val_acc: 0.9909\n",
      "Epoch 4/10\n",
      "52165/52165 [==============================] - 50s 955us/step - loss: 0.0171 - acc: 0.9938 - val_loss: 0.0252 - val_acc: 0.9911\n",
      "Epoch 5/10\n",
      "52165/52165 [==============================] - 50s 957us/step - loss: 0.0151 - acc: 0.9946 - val_loss: 0.0252 - val_acc: 0.9912\n",
      "Epoch 6/10\n",
      "52165/52165 [==============================] - 50s 955us/step - loss: 0.0134 - acc: 0.9952 - val_loss: 0.0255 - val_acc: 0.9912\n",
      "Epoch 7/10\n",
      "52165/52165 [==============================] - 50s 957us/step - loss: 0.0119 - acc: 0.9958 - val_loss: 0.0264 - val_acc: 0.9910\n",
      "Epoch 8/10\n",
      "52165/52165 [==============================] - 50s 956us/step - loss: 0.0104 - acc: 0.9964 - val_loss: 0.0275 - val_acc: 0.9910\n",
      "Epoch 9/10\n",
      "52165/52165 [==============================] - 50s 960us/step - loss: 0.0090 - acc: 0.9969 - val_loss: 0.0292 - val_acc: 0.9906\n",
      "Epoch 10/10\n",
      "52165/52165 [==============================] - 50s 957us/step - loss: 0.0078 - acc: 0.9974 - val_loss: 0.0307 - val_acc: 0.9905\n"
     ]
    }
   ],
   "source": [
    "rnn_training = rnn_model.fit(X_train, Y_train, batch_size=128, epochs=10, validation_data=(X_validation, Y_validation))"
   ]
  },
  {
   "cell_type": "code",
   "execution_count": 48,
   "metadata": {
    "colab": {
     "base_uri": "https://localhost:8080/",
     "height": 376
    },
    "colab_type": "code",
    "executionInfo": {
     "elapsed": 20,
     "status": "ok",
     "timestamp": 1544949416024,
     "user": {
      "displayName": "Naveen Bharadwaj",
      "photoUrl": "https://lh4.googleusercontent.com/-yYj6SAmNV4o/AAAAAAAAAAI/AAAAAAAAAE0/TU_U_ezgx44/s64/photo.jpg",
      "userId": "14707737005437864614"
     },
     "user_tz": -330
    },
    "id": "yJuV311T-KfZ",
    "outputId": "0edfe1ca-bf7a-47c1-f8ed-841b8c101c07"
   },
   "outputs": [
    {
     "data": {
      "image/png": "[encoded data removed]",
      "text/plain": [
       "<matplotlib.figure.Figure at 0x7fd8757a79e8>"
      ]
     },
     "metadata": {
      "tags": []
     },
     "output_type": "display_data"
    }
   ],
   "source": [
    "# visualise training history\n",
    "plt.plot(rnn_training.history['acc'])\n",
    "plt.plot(rnn_training.history['val_acc'])\n",
    "plt.title('model accuracy')\n",
    "plt.ylabel('accuracy')\n",
    "plt.xlabel('epoch')\n",
    "plt.legend(['train', 'test'], loc=\"lower right\")\n",
    "plt.show()"
   ]
  },
  {
   "cell_type": "code",
   "execution_count": 0,
   "metadata": {
    "colab": {},
    "colab_type": "code",
    "collapsed": true,
    "id": "ntnxF_wL-Kkt"
   },
   "outputs": [],
   "source": [
    "# create architecture\n",
    "\n",
    "lstm_model = Sequential()\n",
    "lstm_model.add(Embedding(input_dim     = VOCABULARY_SIZE,         # vocabulary size - number of unique words in data\n",
    "                         output_dim    = EMBEDDING_SIZE,          # length of vector with which each word is represented\n",
    "                         input_length  = MAX_SEQ_LENGTH,          # length of input sequence\n",
    "                         weights       = [embedding_weights],     # word embedding matrix\n",
    "                         trainable     = True                     # True - update embeddings_weight matrix\n",
    "))\n",
    "lstm_model.add(LSTM(64, return_sequences=True))\n",
    "lstm_model.add(TimeDistributed(Dense(NUM_CLASSES, activation='softmax')))"
   ]
  },
  {
   "cell_type": "code",
   "execution_count": 0,
   "metadata": {
    "colab": {},
    "colab_type": "code",
    "collapsed": true,
    "id": "ctvUtwrz-Kne"
   },
   "outputs": [],
   "source": [
    "lstm_model.compile(loss      =  'categorical_crossentropy',\n",
    "                   optimizer =  'adam',\n",
    "                   metrics   =  ['acc'])"
   ]
  },
  {
   "cell_type": "code",
   "execution_count": 51,
   "metadata": {
    "colab": {
     "base_uri": "https://localhost:8080/",
     "height": 238
    },
    "colab_type": "code",
    "executionInfo": {
     "elapsed": 24,
     "status": "ok",
     "timestamp": 1544949416035,
     "user": {
      "displayName": "Naveen Bharadwaj",
      "photoUrl": "https://lh4.googleusercontent.com/-yYj6SAmNV4o/AAAAAAAAAAI/AAAAAAAAAE0/TU_U_ezgx44/s64/photo.jpg",
      "userId": "14707737005437864614"
     },
     "user_tz": -330
    },
    "id": "LJZWFGqH-Kqk",
    "outputId": "ee553e54-f1f0-4ef7-b9a2-8173b8419486"
   },
   "outputs": [
    {
     "name": "stdout",
     "output_type": "stream",
     "text": [
      "_________________________________________________________________\n",
      "Layer (type)                 Output Shape              Param #   \n",
      "=================================================================\n",
      "embedding_4 (Embedding)      (None, 100, 300)          17834700  \n",
      "_________________________________________________________________\n",
      "lstm_1 (LSTM)                (None, 100, 64)           93440     \n",
      "_________________________________________________________________\n",
      "time_distributed_4 (TimeDist (None, 100, 13)           845       \n",
      "=================================================================\n",
      "Total params: 17,928,985\n",
      "Trainable params: 17,928,985\n",
      "Non-trainable params: 0\n",
      "_________________________________________________________________\n"
     ]
    }
   ],
   "source": [
    "# check summary of the model\n",
    "lstm_model.summary()"
   ]
  },
  {
   "cell_type": "code",
   "execution_count": 52,
   "metadata": {
    "colab": {
     "base_uri": "https://localhost:8080/",
     "height": 374
    },
    "colab_type": "code",
    "executionInfo": {
     "elapsed": 1235739,
     "status": "ok",
     "timestamp": 1544950651752,
     "user": {
      "displayName": "Naveen Bharadwaj",
      "photoUrl": "https://lh4.googleusercontent.com/-yYj6SAmNV4o/AAAAAAAAAAI/AAAAAAAAAE0/TU_U_ezgx44/s64/photo.jpg",
      "userId": "14707737005437864614"
     },
     "user_tz": -330
    },
    "id": "FqvTYNwm-Kvk",
    "outputId": "d9b28032-e244-4325-c048-094354b1639e"
   },
   "outputs": [
    {
     "name": "stdout",
     "output_type": "stream",
     "text": [
      "Train on 52165 samples, validate on 9206 samples\n",
      "Epoch 1/10\n",
      "52165/52165 [==============================] - 129s 2ms/step - loss: 0.3178 - acc: 0.9308 - val_loss: 0.0473 - val_acc: 0.9873\n",
      "Epoch 2/10\n",
      "52165/52165 [==============================] - 125s 2ms/step - loss: 0.0339 - acc: 0.9895 - val_loss: 0.0298 - val_acc: 0.9897\n",
      "Epoch 3/10\n",
      "52165/52165 [==============================] - 125s 2ms/step - loss: 0.0239 - acc: 0.9915 - val_loss: 0.0264 - val_acc: 0.9905\n",
      "Epoch 4/10\n",
      "52165/52165 [==============================] - 125s 2ms/step - loss: 0.0202 - acc: 0.9926 - val_loss: 0.0250 - val_acc: 0.9910\n",
      "Epoch 5/10\n",
      "52165/52165 [==============================] - 125s 2ms/step - loss: 0.0180 - acc: 0.9933 - val_loss: 0.0242 - val_acc: 0.9913\n",
      "Epoch 6/10\n",
      "52165/52165 [==============================] - 126s 2ms/step - loss: 0.0164 - acc: 0.9939 - val_loss: 0.0239 - val_acc: 0.9915\n",
      "Epoch 7/10\n",
      "52165/52165 [==============================] - 125s 2ms/step - loss: 0.0149 - acc: 0.9945 - val_loss: 0.0238 - val_acc: 0.9916\n",
      "Epoch 8/10\n",
      "52165/52165 [==============================] - 125s 2ms/step - loss: 0.0135 - acc: 0.9951 - val_loss: 0.0241 - val_acc: 0.9917\n",
      "Epoch 9/10\n",
      "52165/52165 [==============================] - 125s 2ms/step - loss: 0.0121 - acc: 0.9957 - val_loss: 0.0246 - val_acc: 0.9915\n",
      "Epoch 10/10\n",
      "52165/52165 [==============================] - 125s 2ms/step - loss: 0.0108 - acc: 0.9962 - val_loss: 0.0252 - val_acc: 0.9916\n"
     ]
    }
   ],
   "source": [
    "lstm_training = lstm_model.fit(X_train, Y_train, batch_size=128, epochs=10, validation_data=(X_validation, Y_validation))"
   ]
  },
  {
   "cell_type": "code",
   "execution_count": 53,
   "metadata": {
    "colab": {
     "base_uri": "https://localhost:8080/",
     "height": 376
    },
    "colab_type": "code",
    "executionInfo": {
     "elapsed": 17,
     "status": "ok",
     "timestamp": 1544950651755,
     "user": {
      "displayName": "Naveen Bharadwaj",
      "photoUrl": "https://lh4.googleusercontent.com/-yYj6SAmNV4o/AAAAAAAAAAI/AAAAAAAAAE0/TU_U_ezgx44/s64/photo.jpg",
      "userId": "14707737005437864614"
     },
     "user_tz": -330
    },
    "id": "m_1G6CG6-K0u",
    "outputId": "1df02e58-49de-42f6-9bf2-37857f8dbc38"
   },
   "outputs": [
    {
     "data": {
      "image/png": "[encoded data removed]",
      "text/plain": [
       "<matplotlib.figure.Figure at 0x7fd874a4aa58>"
      ]
     },
     "metadata": {
      "tags": []
     },
     "output_type": "display_data"
    }
   ],
   "source": [
    "# visualise training history\n",
    "plt.plot(lstm_training.history['acc'])\n",
    "plt.plot(lstm_training.history['val_acc'])\n",
    "plt.title('model accuracy')\n",
    "plt.ylabel('accuracy')\n",
    "plt.xlabel('epoch')\n",
    "plt.legend(['train', 'test'], loc=\"lower right\")\n",
    "plt.show()"
   ]
  },
  {
   "cell_type": "code",
   "execution_count": 0,
   "metadata": {
    "colab": {},
    "colab_type": "code",
    "collapsed": true,
    "id": "6c5vL3K6-Kyd"
   },
   "outputs": [],
   "source": [
    "# create architecture\n",
    "\n",
    "gru_model = Sequential()\n",
    "gru_model.add(Embedding(input_dim     = VOCABULARY_SIZE,\n",
    "                        output_dim    = EMBEDDING_SIZE,\n",
    "                        input_length  = MAX_SEQ_LENGTH,\n",
    "                        weights       = [embedding_weights],\n",
    "                        trainable     = True\n",
    "))\n",
    "gru_model.add(GRU(64, return_sequences=True))\n",
    "gru_model.add(TimeDistributed(Dense(NUM_CLASSES, activation='softmax')))"
   ]
  },
  {
   "cell_type": "code",
   "execution_count": 0,
   "metadata": {
    "colab": {},
    "colab_type": "code",
    "collapsed": true,
    "id": "-tBQVZAv-Ktt"
   },
   "outputs": [],
   "source": [
    "gru_model.compile(loss='categorical_crossentropy',\n",
    "              optimizer='adam',\n",
    "              metrics=['acc'])"
   ]
  },
  {
   "cell_type": "code",
   "execution_count": 56,
   "metadata": {
    "colab": {
     "base_uri": "https://localhost:8080/",
     "height": 238
    },
    "colab_type": "code",
    "executionInfo": {
     "elapsed": 37,
     "status": "ok",
     "timestamp": 1544950652703,
     "user": {
      "displayName": "Naveen Bharadwaj",
      "photoUrl": "https://lh4.googleusercontent.com/-yYj6SAmNV4o/AAAAAAAAAAI/AAAAAAAAAE0/TU_U_ezgx44/s64/photo.jpg",
      "userId": "14707737005437864614"
     },
     "user_tz": -330
    },
    "id": "EEm-rQdZ-KjB",
    "outputId": "3c1a1d98-c0e0-4536-dbe0-1c8e1c3b127b"
   },
   "outputs": [
    {
     "name": "stdout",
     "output_type": "stream",
     "text": [
      "_________________________________________________________________\n",
      "Layer (type)                 Output Shape              Param #   \n",
      "=================================================================\n",
      "embedding_5 (Embedding)      (None, 100, 300)          17834700  \n",
      "_________________________________________________________________\n",
      "gru_1 (GRU)                  (None, 100, 64)           70080     \n",
      "_________________________________________________________________\n",
      "time_distributed_5 (TimeDist (None, 100, 13)           845       \n",
      "=================================================================\n",
      "Total params: 17,905,625\n",
      "Trainable params: 17,905,625\n",
      "Non-trainable params: 0\n",
      "_________________________________________________________________\n"
     ]
    }
   ],
   "source": [
    "# check summary of model\n",
    "gru_model.summary()"
   ]
  },
  {
   "cell_type": "code",
   "execution_count": 57,
   "metadata": {
    "colab": {
     "base_uri": "https://localhost:8080/",
     "height": 374
    },
    "colab_type": "code",
    "executionInfo": {
     "elapsed": 1102984,
     "status": "ok",
     "timestamp": 1544951755660,
     "user": {
      "displayName": "Naveen Bharadwaj",
      "photoUrl": "https://lh4.googleusercontent.com/-yYj6SAmNV4o/AAAAAAAAAAI/AAAAAAAAAE0/TU_U_ezgx44/s64/photo.jpg",
      "userId": "14707737005437864614"
     },
     "user_tz": -330
    },
    "id": "OCb8o0mr-Ka6",
    "outputId": "d8ca9035-b2a5-46d2-8489-991764279b4c"
   },
   "outputs": [
    {
     "name": "stdout",
     "output_type": "stream",
     "text": [
      "Train on 52165 samples, validate on 9206 samples\n",
      "Epoch 1/10\n",
      "52165/52165 [==============================] - 112s 2ms/step - loss: 0.2230 - acc: 0.9593 - val_loss: 0.0343 - val_acc: 0.9888\n",
      "Epoch 2/10\n",
      "52165/52165 [==============================] - 110s 2ms/step - loss: 0.0268 - acc: 0.9906 - val_loss: 0.0263 - val_acc: 0.9904\n",
      "Epoch 3/10\n",
      "52165/52165 [==============================] - 110s 2ms/step - loss: 0.0202 - acc: 0.9925 - val_loss: 0.0244 - val_acc: 0.9911\n",
      "Epoch 4/10\n",
      "52165/52165 [==============================] - 110s 2ms/step - loss: 0.0175 - acc: 0.9935 - val_loss: 0.0236 - val_acc: 0.9914\n",
      "Epoch 5/10\n",
      "52165/52165 [==============================] - 110s 2ms/step - loss: 0.0157 - acc: 0.9941 - val_loss: 0.0234 - val_acc: 0.9915\n",
      "Epoch 6/10\n",
      "52165/52165 [==============================] - 109s 2ms/step - loss: 0.0144 - acc: 0.9946 - val_loss: 0.0236 - val_acc: 0.9915\n",
      "Epoch 7/10\n",
      "52165/52165 [==============================] - 109s 2ms/step - loss: 0.0132 - acc: 0.9951 - val_loss: 0.0240 - val_acc: 0.9915\n",
      "Epoch 8/10\n",
      "52165/52165 [==============================] - 110s 2ms/step - loss: 0.0121 - acc: 0.9955 - val_loss: 0.0248 - val_acc: 0.9914\n",
      "Epoch 9/10\n",
      "52165/52165 [==============================] - 110s 2ms/step - loss: 0.0110 - acc: 0.9959 - val_loss: 0.0259 - val_acc: 0.9913\n",
      "Epoch 10/10\n",
      "52165/52165 [==============================] - 110s 2ms/step - loss: 0.0099 - acc: 0.9963 - val_loss: 0.0269 - val_acc: 0.9913\n"
     ]
    }
   ],
   "source": [
    "gru_training = gru_model.fit(X_train, Y_train, batch_size=128, epochs=10, validation_data=(X_validation, Y_validation))"
   ]
  },
  {
   "cell_type": "code",
   "execution_count": 58,
   "metadata": {
    "colab": {
     "base_uri": "https://localhost:8080/",
     "height": 376
    },
    "colab_type": "code",
    "executionInfo": {
     "elapsed": 24,
     "status": "ok",
     "timestamp": 1544951755664,
     "user": {
      "displayName": "Naveen Bharadwaj",
      "photoUrl": "https://lh4.googleusercontent.com/-yYj6SAmNV4o/AAAAAAAAAAI/AAAAAAAAAE0/TU_U_ezgx44/s64/photo.jpg",
      "userId": "14707737005437864614"
     },
     "user_tz": -330
    },
    "id": "ugH804SG-KQb",
    "outputId": "7da72eb2-7e88-45d5-8ac9-095adb8ca15d"
   },
   "outputs": [
    {
     "data": {
      "image/png": "[encoded data removed]",
      "text/plain": [
       "<matplotlib.figure.Figure at 0x7fd873f0e6a0>"
      ]
     },
     "metadata": {
      "tags": []
     },
     "output_type": "display_data"
    }
   ],
   "source": [
    "# visualise training history\n",
    "plt.plot(gru_training.history['acc'])\n",
    "plt.plot(gru_training.history['val_acc'])\n",
    "plt.title('model accuracy')\n",
    "plt.ylabel('accuracy')\n",
    "plt.xlabel('epoch')\n",
    "plt.legend(['train', 'test'], loc=\"lower right\")\n",
    "plt.show()"
   ]
  },
  {
   "cell_type": "code",
   "execution_count": 0,
   "metadata": {
    "colab": {},
    "colab_type": "code",
    "collapsed": true,
    "id": "ChQj76rL-KLN"
   },
   "outputs": [],
   "source": [
    "# create architecture\n",
    "\n",
    "bidirect_model = Sequential()\n",
    "bidirect_model.add(Embedding(input_dim     = VOCABULARY_SIZE,\n",
    "                             output_dim    = EMBEDDING_SIZE,\n",
    "                             input_length  = MAX_SEQ_LENGTH,\n",
    "                             weights       = [embedding_weights],\n",
    "                             trainable     = True\n",
    "))\n",
    "bidirect_model.add(Bidirectional(LSTM(64, return_sequences=True)))\n",
    "bidirect_model.add(TimeDistributed(Dense(NUM_CLASSES, activation='softmax')))"
   ]
  },
  {
   "cell_type": "code",
   "execution_count": 0,
   "metadata": {
    "colab": {},
    "colab_type": "code",
    "collapsed": true,
    "id": "4NNhOH6t-KCz"
   },
   "outputs": [],
   "source": [
    "bidirect_model.compile(loss='categorical_crossentropy',\n",
    "              optimizer='adam',\n",
    "              metrics=['acc'])"
   ]
  },
  {
   "cell_type": "code",
   "execution_count": 61,
   "metadata": {
    "colab": {
     "base_uri": "https://localhost:8080/",
     "height": 238
    },
    "colab_type": "code",
    "executionInfo": {
     "elapsed": 40,
     "status": "ok",
     "timestamp": 1544951757072,
     "user": {
      "displayName": "Naveen Bharadwaj",
      "photoUrl": "https://lh4.googleusercontent.com/-yYj6SAmNV4o/AAAAAAAAAAI/AAAAAAAAAE0/TU_U_ezgx44/s64/photo.jpg",
      "userId": "14707737005437864614"
     },
     "user_tz": -330
    },
    "id": "YkRf_CH9-J6l",
    "outputId": "64c5db39-64f6-4f31-cf81-2adfd9973c98"
   },
   "outputs": [
    {
     "name": "stdout",
     "output_type": "stream",
     "text": [
      "_________________________________________________________________\n",
      "Layer (type)                 Output Shape              Param #   \n",
      "=================================================================\n",
      "embedding_6 (Embedding)      (None, 100, 300)          17834700  \n",
      "_________________________________________________________________\n",
      "bidirectional_1 (Bidirection (None, 100, 128)          186880    \n",
      "_________________________________________________________________\n",
      "time_distributed_6 (TimeDist (None, 100, 13)           1677      \n",
      "=================================================================\n",
      "Total params: 18,023,257\n",
      "Trainable params: 18,023,257\n",
      "Non-trainable params: 0\n",
      "_________________________________________________________________\n"
     ]
    }
   ],
   "source": [
    "# check summary of model\n",
    "bidirect_model.summary()"
   ]
  },
  {
   "cell_type": "code",
   "execution_count": 62,
   "metadata": {
    "colab": {
     "base_uri": "https://localhost:8080/",
     "height": 374
    },
    "colab_type": "code",
    "executionInfo": {
     "elapsed": 2308031,
     "status": "ok",
     "timestamp": 1544954065080,
     "user": {
      "displayName": "Naveen Bharadwaj",
      "photoUrl": "https://lh4.googleusercontent.com/-yYj6SAmNV4o/AAAAAAAAAAI/AAAAAAAAAE0/TU_U_ezgx44/s64/photo.jpg",
      "userId": "14707737005437864614"
     },
     "user_tz": -330
    },
    "id": "xIT--Joz8g_W",
    "outputId": "9664783f-5758-4be8-d46f-5d2de82be20b"
   },
   "outputs": [
    {
     "name": "stdout",
     "output_type": "stream",
     "text": [
      "Train on 52165 samples, validate on 9206 samples\n",
      "Epoch 1/10\n",
      "52165/52165 [==============================] - 234s 4ms/step - loss: 0.2425 - acc: 0.9433 - val_loss: 0.0296 - val_acc: 0.9908\n",
      "Epoch 2/10\n",
      "52165/52165 [==============================] - 232s 4ms/step - loss: 0.0222 - acc: 0.9928 - val_loss: 0.0210 - val_acc: 0.9928\n",
      "Epoch 3/10\n",
      "52165/52165 [==============================] - 232s 4ms/step - loss: 0.0151 - acc: 0.9950 - val_loss: 0.0188 - val_acc: 0.9936\n",
      "Epoch 4/10\n",
      "52165/52165 [==============================] - 232s 4ms/step - loss: 0.0119 - acc: 0.9960 - val_loss: 0.0179 - val_acc: 0.9940\n",
      "Epoch 5/10\n",
      "52165/52165 [==============================] - 231s 4ms/step - loss: 0.0095 - acc: 0.9969 - val_loss: 0.0177 - val_acc: 0.9942\n",
      "Epoch 6/10\n",
      "52165/52165 [==============================] - 229s 4ms/step - loss: 0.0076 - acc: 0.9976 - val_loss: 0.0179 - val_acc: 0.9942\n",
      "Epoch 7/10\n",
      "52165/52165 [==============================] - 228s 4ms/step - loss: 0.0060 - acc: 0.9981 - val_loss: 0.0185 - val_acc: 0.9943\n",
      "Epoch 8/10\n",
      "52165/52165 [==============================] - 228s 4ms/step - loss: 0.0047 - acc: 0.9986 - val_loss: 0.0193 - val_acc: 0.9943\n",
      "Epoch 9/10\n",
      "52165/52165 [==============================] - 228s 4ms/step - loss: 0.0036 - acc: 0.9990 - val_loss: 0.0209 - val_acc: 0.9941\n",
      "Epoch 10/10\n",
      "52165/52165 [==============================] - 231s 4ms/step - loss: 0.0027 - acc: 0.9993 - val_loss: 0.0220 - val_acc: 0.9940\n"
     ]
    }
   ],
   "source": [
    "bidirect_training = bidirect_model.fit(X_train, Y_train, batch_size=128, epochs=10, validation_data=(X_validation, Y_validation))"
   ]
  },
  {
   "cell_type": "code",
   "execution_count": 63,
   "metadata": {
    "colab": {
     "base_uri": "https://localhost:8080/",
     "height": 376
    },
    "colab_type": "code",
    "executionInfo": {
     "elapsed": 39,
     "status": "ok",
     "timestamp": 1544954065087,
     "user": {
      "displayName": "Naveen Bharadwaj",
      "photoUrl": "https://lh4.googleusercontent.com/-yYj6SAmNV4o/AAAAAAAAAAI/AAAAAAAAAE0/TU_U_ezgx44/s64/photo.jpg",
      "userId": "14707737005437864614"
     },
     "user_tz": -330
    },
    "id": "-BnjjK9r-7m6",
    "outputId": "80cb1056-5282-4128-b925-22f88129b49e"
   },
   "outputs": [
    {
     "data": {
      "image/png": "[encoded data removed]",
      "text/plain": [
       "<matplotlib.figure.Figure at 0x7fd8729c8208>"
      ]
     },
     "metadata": {
      "tags": []
     },
     "output_type": "display_data"
    }
   ],
   "source": [
    "# visualise training history\n",
    "plt.plot(bidirect_training.history['acc'])\n",
    "plt.plot(bidirect_training.history['val_acc'])\n",
    "plt.title('model accuracy')\n",
    "plt.ylabel('accuracy')\n",
    "plt.xlabel('epoch')\n",
    "plt.legend(['train', 'test'], loc=\"lower right\")\n",
    "plt.show()"
   ]
  },
  {
   "cell_type": "code",
   "execution_count": 64,
   "metadata": {
    "colab": {
     "base_uri": "https://localhost:8080/",
     "height": 68
    },
    "colab_type": "code",
    "executionInfo": {
     "elapsed": 17400,
     "status": "ok",
     "timestamp": 1544954082465,
     "user": {
      "displayName": "Naveen Bharadwaj",
      "photoUrl": "https://lh4.googleusercontent.com/-yYj6SAmNV4o/AAAAAAAAAAI/AAAAAAAAAE0/TU_U_ezgx44/s64/photo.jpg",
      "userId": "14707737005437864614"
     },
     "user_tz": -330
    },
    "id": "AMQ91Tee-7sW",
    "outputId": "1020e99b-923c-473b-df99-c43d2ec079be"
   },
   "outputs": [
    {
     "name": "stdout",
     "output_type": "stream",
     "text": [
      "10831/10831 [==============================] - 18s 2ms/step\n",
      "Loss: 0.030286604693164104,\n",
      "Accuracy: 0.9905188816778658\n"
     ]
    }
   ],
   "source": [
    "loss, accuracy = rnn_model.evaluate(X_test, Y_test, verbose = 1)\n",
    "print(\"Loss: {0},\\nAccuracy: {1}\".format(loss, accuracy))"
   ]
  },
  {
   "cell_type": "code",
   "execution_count": 65,
   "metadata": {
    "colab": {
     "base_uri": "https://localhost:8080/",
     "height": 68
    },
    "colab_type": "code",
    "executionInfo": {
     "elapsed": 35362,
     "status": "ok",
     "timestamp": 1544954117819,
     "user": {
      "displayName": "Naveen Bharadwaj",
      "photoUrl": "https://lh4.googleusercontent.com/-yYj6SAmNV4o/AAAAAAAAAAI/AAAAAAAAAE0/TU_U_ezgx44/s64/photo.jpg",
      "userId": "14707737005437864614"
     },
     "user_tz": -330
    },
    "id": "3TT0PnEX-7xW",
    "outputId": "013e2c00-72e2-4e72-aad7-2557d8aa75cd"
   },
   "outputs": [
    {
     "name": "stdout",
     "output_type": "stream",
     "text": [
      "10831/10831 [==============================] - 35s 3ms/step\n",
      "Loss: 0.02523224324234915,\n",
      "Accuracy: 0.9916240412292361\n"
     ]
    }
   ],
   "source": [
    "loss, accuracy = lstm_model.evaluate(X_test, Y_test, verbose = 1)\n",
    "print(\"Loss: {0},\\nAccuracy: {1}\".format(loss, accuracy))"
   ]
  },
  {
   "cell_type": "code",
   "execution_count": 66,
   "metadata": {
    "colab": {
     "base_uri": "https://localhost:8080/",
     "height": 68
    },
    "colab_type": "code",
    "executionInfo": {
     "elapsed": 31396,
     "status": "ok",
     "timestamp": 1544954149213,
     "user": {
      "displayName": "Naveen Bharadwaj",
      "photoUrl": "https://lh4.googleusercontent.com/-yYj6SAmNV4o/AAAAAAAAAAI/AAAAAAAAAE0/TU_U_ezgx44/s64/photo.jpg",
      "userId": "14707737005437864614"
     },
     "user_tz": -330
    },
    "id": "LI0k0FiM-73B",
    "outputId": "4477978d-35c5-4bca-dc56-189a7465473f"
   },
   "outputs": [
    {
     "name": "stdout",
     "output_type": "stream",
     "text": [
      "10831/10831 [==============================] - 31s 3ms/step\n",
      "Loss: 0.026832821635097228,\n",
      "Accuracy: 0.9914532355154533\n"
     ]
    }
   ],
   "source": [
    "loss, accuracy = gru_model.evaluate(X_test, Y_test, verbose = 1)\n",
    "print(\"Loss: {0},\\nAccuracy: {1}\".format(loss, accuracy))"
   ]
  },
  {
   "cell_type": "code",
   "execution_count": 67,
   "metadata": {
    "colab": {
     "base_uri": "https://localhost:8080/",
     "height": 68
    },
    "colab_type": "code",
    "executionInfo": {
     "elapsed": 66036,
     "status": "ok",
     "timestamp": 1544954215245,
     "user": {
      "displayName": "Naveen Bharadwaj",
      "photoUrl": "https://lh4.googleusercontent.com/-yYj6SAmNV4o/AAAAAAAAAAI/AAAAAAAAAE0/TU_U_ezgx44/s64/photo.jpg",
      "userId": "14707737005437864614"
     },
     "user_tz": -330
    },
    "id": "J7MKhO1d-78X",
    "outputId": "672fe831-3359-4005-f348-34c86b68537c"
   },
   "outputs": [
    {
     "name": "stdout",
     "output_type": "stream",
     "text": [
      "10831/10831 [==============================] - 66s 6ms/step\n",
      "Loss: 0.022358506428000944,\n",
      "Accuracy: 0.9939534663273548\n"
     ]
    }
   ],
   "source": [
    "loss, accuracy = bidirect_model.evaluate(X_test, Y_test, verbose = 1)\n",
    "print(\"Loss: {0},\\nAccuracy: {1}\".format(loss, accuracy))"
   ]
  },
  {
   "cell_type": "code",
   "execution_count": 0,
   "metadata": {
    "colab": {},
    "colab_type": "code",
    "collapsed": true,
    "id": "r6Zw_xKh-8EW"
   },
   "outputs": [],
   "source": []
  },
  {
   "cell_type": "code",
   "execution_count": 0,
   "metadata": {
    "colab": {},
    "colab_type": "code",
    "collapsed": true,
    "id": "IiNas_Jm-8Jk"
   },
   "outputs": [],
   "source": []
  },
  {
   "cell_type": "code",
   "execution_count": 0,
   "metadata": {
    "colab": {},
    "colab_type": "code",
    "collapsed": true,
    "id": "pljlE-ma-8O3"
   },
   "outputs": [],
   "source": []
  },
  {
   "cell_type": "code",
   "execution_count": 0,
   "metadata": {
    "colab": {},
    "colab_type": "code",
    "collapsed": true,
    "id": "nIwy6W9n-8UF"
   },
   "outputs": [],
   "source": []
  },
  {
   "cell_type": "code",
   "execution_count": 0,
   "metadata": {
    "colab": {},
    "colab_type": "code",
    "collapsed": true,
    "id": "QQaGIo3C-8Zp"
   },
   "outputs": [],
   "source": []
  },
  {
   "cell_type": "code",
   "execution_count": 0,
   "metadata": {
    "colab": {},
    "colab_type": "code",
    "collapsed": true,
    "id": "qvuA3fQL-8fB"
   },
   "outputs": [],
   "source": []
  },
  {
   "cell_type": "code",
   "execution_count": 0,
   "metadata": {
    "colab": {},
    "colab_type": "code",
    "collapsed": true,
    "id": "saf-TX6m-8de"
   },
   "outputs": [],
   "source": []
  },
  {
   "cell_type": "code",
   "execution_count": 0,
   "metadata": {
    "colab": {},
    "colab_type": "code",
    "collapsed": true,
    "id": "hD-RehVw-8Xb"
   },
   "outputs": [],
   "source": []
  },
  {
   "cell_type": "code",
   "execution_count": 0,
   "metadata": {
    "colab": {},
    "colab_type": "code",
    "collapsed": true,
    "id": "nOTNsjrL-8Sa"
   },
   "outputs": [],
   "source": []
  },
  {
   "cell_type": "code",
   "execution_count": 0,
   "metadata": {
    "colab": {},
    "colab_type": "code",
    "collapsed": true,
    "id": "Hezet2v4-8NH"
   },
   "outputs": [],
   "source": []
  },
  {
   "cell_type": "code",
   "execution_count": 0,
   "metadata": {
    "colab": {},
    "colab_type": "code",
    "collapsed": true,
    "id": "-dT_09sK-8H-"
   },
   "outputs": [],
   "source": []
  },
  {
   "cell_type": "code",
   "execution_count": 0,
   "metadata": {
    "colab": {},
    "colab_type": "code",
    "collapsed": true,
    "id": "YjN9ddsj-8Bq"
   },
   "outputs": [],
   "source": []
  },
  {
   "cell_type": "code",
   "execution_count": 0,
   "metadata": {
    "colab": {},
    "colab_type": "code",
    "collapsed": true,
    "id": "V8AVtx-z-7_7"
   },
   "outputs": [],
   "source": []
  },
  {
   "cell_type": "code",
   "execution_count": 0,
   "metadata": {
    "colab": {},
    "colab_type": "code",
    "collapsed": true,
    "id": "ctp9TKcM-76P"
   },
   "outputs": [],
   "source": []
  },
  {
   "cell_type": "code",
   "execution_count": 0,
   "metadata": {
    "colab": {},
    "colab_type": "code",
    "collapsed": true,
    "id": "fqymcc0a-70n"
   },
   "outputs": [],
   "source": []
  },
  {
   "cell_type": "code",
   "execution_count": 0,
   "metadata": {
    "colab": {},
    "colab_type": "code",
    "collapsed": true,
    "id": "i_OMNIQk-7v6"
   },
   "outputs": [],
   "source": []
  },
  {
   "cell_type": "code",
   "execution_count": 0,
   "metadata": {
    "colab": {},
    "colab_type": "code",
    "collapsed": true,
    "id": "pNRPwGtl-7qJ"
   },
   "outputs": [],
   "source": []
  },
  {
   "cell_type": "code",
   "execution_count": 0,
   "metadata": {
    "colab": {},
    "colab_type": "code",
    "collapsed": true,
    "id": "CXzB9KP9-7kf"
   },
   "outputs": [],
   "source": []
  }
 ],
 "metadata": {
  "accelerator": "GPU",
  "colab": {
   "collapsed_sections": [],
   "name": "POS_tagger",
   "provenance": [],
   "version": "0.3.2"
  },
  "kernelspec": {
   "display_name": "Python 3",
   "language": "python",
   "name": "python3"
  },
  "language_info": {
   "codemirror_mode": {
    "name": "ipython",
    "version": 3
   },
   "file_extension": ".py",
   "mimetype": "text/x-python",
   "name": "python",
   "nbconvert_exporter": "python",
   "pygments_lexer": "ipython3",
   "version": "3.6.3"
  }
 },
 "nbformat": 4,
 "nbformat_minor": 1
}
